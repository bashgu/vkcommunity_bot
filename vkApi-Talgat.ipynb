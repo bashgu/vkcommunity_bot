{
 "cells": [
  {
   "cell_type": "code",
   "execution_count": 1,
   "metadata": {
    "collapsed": true
   },
   "outputs": [],
   "source": [
    "import requests\n",
    "import json"
   ]
  },
  {
   "cell_type": "markdown",
   "metadata": {},
   "source": [
    "# VK Api"
   ]
  },
  {
   "cell_type": "code",
   "execution_count": 2,
   "metadata": {
    "collapsed": true
   },
   "outputs": [],
   "source": [
    "vk_url=\"https://api.vkontakte.ru/method/\"\n",
    "access_token='84bf24ce01548f2a85bcd4d2577d5b5cc6007b894b79d4f471f4f57346bd52aa08e0733ce81d69e2eafe2'"
   ]
  },
  {
   "cell_type": "code",
   "execution_count": 63,
   "metadata": {
    "collapsed": false
   },
   "outputs": [
    {
     "name": "stdout",
     "output_type": "stream",
     "text": [
      "{\n",
      "    \"response\": {\n",
      "        \"count\": 3, \n",
      "        \"items\": [\n",
      "            {\n",
      "                \"in_read\": 0, \n",
      "                \"message\": {\n",
      "                    \"body\": \"hello\", \n",
      "                    \"date\": 1473541880, \n",
      "                    \"id\": 11, \n",
      "                    \"out\": 0, \n",
      "                    \"read_state\": 0, \n",
      "                    \"title\": \" ... \", \n",
      "                    \"user_id\": 70233893\n",
      "                }, \n",
      "                \"out_read\": 10, \n",
      "                \"unread\": 1\n",
      "            }, \n",
      "            {\n",
      "                \"in_read\": 9, \n",
      "                \"message\": {\n",
      "                    \"body\": \"Сейчас с вами свяжутся\", \n",
      "                    \"date\": 1473541791, \n",
      "                    \"id\": 10, \n",
      "                    \"out\": 1, \n",
      "                    \"random_id\": 0, \n",
      "                    \"read_state\": 1, \n",
      "                    \"title\": \" ... \", \n",
      "                    \"user_id\": 8438153\n",
      "                }, \n",
      "                \"out_read\": 10\n",
      "            }, \n",
      "            {\n",
      "                \"in_read\": 7, \n",
      "                \"message\": {\n",
      "                    \"body\": \"UTHJQ\", \n",
      "                    \"date\": 1473541115, \n",
      "                    \"id\": 8, \n",
      "                    \"out\": 1, \n",
      "                    \"random_id\": 0, \n",
      "                    \"read_state\": 1, \n",
      "                    \"title\": \" ... \", \n",
      "                    \"user_id\": 37525550\n",
      "                }, \n",
      "                \"out_read\": 8\n",
      "            }\n",
      "        ], \n",
      "        \"unread_dialogs\": 1\n",
      "    }\n",
      "}\n"
     ]
    }
   ],
   "source": [
    "resp = requests.get(vk_url+'messages.getDialogs',\n",
    "                '&access_token={}&v=5.53'.format(access_token))\n",
    "\n",
    "result = resp.json()\n",
    "    \n",
    "print (json.dumps(result, indent=4, sort_keys=True, ensure_ascii=False))\n"
   ]
  },
  {
   "cell_type": "code",
   "execution_count": 64,
   "metadata": {
    "collapsed": false
   },
   "outputs": [
    {
     "name": "stdout",
     "output_type": "stream",
     "text": [
      "1 no cool\n",
      "1 no cool\n"
     ]
    }
   ],
   "source": [
    "r = result['response']['items']\n",
    "text = 'Сейчас с вами свяжутся'\n",
    "\n",
    "for i in r:\n",
    "    msg = i['message']\n",
    "    read = msg['read_state']\n",
    "    if read == 0:\n",
    "        resp = requests.get(vk_url+'messages.send',\n",
    "                '&user_id={}&peer_id={}&chat_id={}&message={}&access_token={}&v=5.53'.format(msg['user_id'],'-1747308378',msg['id'],text,access_token))\n",
    "\n",
    "        result = resp.json()\n",
    "    else:\n",
    "        print read, 'no cool'\n"
   ]
  },
  {
   "cell_type": "code",
   "execution_count": 42,
   "metadata": {
    "collapsed": false
   },
   "outputs": [
    {
     "name": "stdout",
     "output_type": "stream",
     "text": [
      "{\n",
      "    \"response\": 8\n",
      "}\n"
     ]
    }
   ],
   "source": [
    "resp = requests.get(vk_url+'messages.send',\n",
    "                '&user_id={}&peer_id={}&chat_id={}&message={}&access_token={}&v=5.53'.format(r['user_id'],'-1747308378',r['id'],'UTHJQ',access_token))\n",
    "\n",
    "result = resp.json()\n",
    "    \n",
    "print (json.dumps(result, indent=4, sort_keys=True, ensure_ascii=False))\n"
   ]
  },
  {
   "cell_type": "code",
   "execution_count": null,
   "metadata": {
    "collapsed": true
   },
   "outputs": [],
   "source": []
  }
 ],
 "metadata": {
  "anaconda-cloud": {},
  "kernelspec": {
   "display_name": "Python [Root]",
   "language": "python",
   "name": "Python [Root]"
  },
  "language_info": {
   "codemirror_mode": {
    "name": "ipython",
    "version": 2
   },
   "file_extension": ".py",
   "mimetype": "text/x-python",
   "name": "python",
   "nbconvert_exporter": "python",
   "pygments_lexer": "ipython2",
   "version": "2.7.12"
  }
 },
 "nbformat": 4,
 "nbformat_minor": 0
}
