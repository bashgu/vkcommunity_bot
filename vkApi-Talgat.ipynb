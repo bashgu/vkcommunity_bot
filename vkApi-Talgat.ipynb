{
 "cells": [
  {
   "cell_type": "code",
   "execution_count": 1,
   "metadata": {
    "collapsed": true
   },
   "outputs": [],
   "source": [
    "import requests\n",
    "import json\n",
    "import time"
   ]
  },
  {
   "cell_type": "markdown",
   "metadata": {},
   "source": [
    "# VK Api"
   ]
  },
  {
   "cell_type": "code",
   "execution_count": 2,
   "metadata": {
    "collapsed": true
   },
   "outputs": [],
   "source": [
    "vk_url=\"https://api.vkontakte.ru/method/\"\n",
    "access_token='84bf24ce01548f2a85bcd4d2577d5b5cc6007b894b79d4f471f4f57346bd52aa08e0733ce81d69e2eafe2'"
   ]
  },
  {
   "cell_type": "code",
   "execution_count": 3,
   "metadata": {
    "collapsed": false
   },
   "outputs": [
    {
     "name": "stdout",
     "output_type": "stream",
     "text": [
      "{\n",
      "    \"response\": {\n",
      "        \"count\": 3, \n",
      "        \"items\": [\n",
      "            {\n",
      "                \"in_read\": 104, \n",
      "                \"message\": {\n",
      "                    \"body\": \"hfh\", \n",
      "                    \"date\": 1473580154, \n",
      "                    \"id\": 104, \n",
      "                    \"out\": 0, \n",
      "                    \"read_state\": 1, \n",
      "                    \"title\": \" ... \", \n",
      "                    \"user_id\": 8438153\n",
      "                }, \n",
      "                \"out_read\": 103\n",
      "            }, \n",
      "            {\n",
      "                \"in_read\": 62, \n",
      "                \"message\": {\n",
      "                    \"body\": \"БРОООООО\", \n",
      "                    \"date\": 1473553324, \n",
      "                    \"id\": 63, \n",
      "                    \"out\": 1, \n",
      "                    \"random_id\": 0, \n",
      "                    \"read_state\": 1, \n",
      "                    \"title\": \" ... \", \n",
      "                    \"user_id\": 37525550\n",
      "                }, \n",
      "                \"out_read\": 63\n",
      "            }, \n",
      "            {\n",
      "                \"in_read\": 11, \n",
      "                \"message\": {\n",
      "                    \"body\": \"Сейчас с вами свяжутся\", \n",
      "                    \"date\": 1473541932, \n",
      "                    \"id\": 12, \n",
      "                    \"out\": 1, \n",
      "                    \"random_id\": 0, \n",
      "                    \"read_state\": 1, \n",
      "                    \"title\": \" ... \", \n",
      "                    \"user_id\": 70233893\n",
      "                }, \n",
      "                \"out_read\": 12\n",
      "            }\n",
      "        ]\n",
      "    }\n",
      "}\n"
     ]
    }
   ],
   "source": [
    "resp = requests.get(vk_url+'messages.getDialogs',\n",
    "                '&access_token={}&v=5.53'.format(access_token))\n",
    "\n",
    "result = resp.json()\n",
    "mgt = result    \n",
    "print (json.dumps(result, indent=4, sort_keys=True, ensure_ascii=False))\n"
   ]
  },
  {
   "cell_type": "code",
   "execution_count": 4,
   "metadata": {
    "collapsed": false
   },
   "outputs": [],
   "source": [
    "#r = result['response']['items']\n",
    "#text = 'Сейчас с вами свяжутся'\n",
    "#for i in r:\n",
    "#    msg = i['message']\n",
    "#    read = msg['read_state']\n",
    "#    if read == 0:\n",
    "#        resp = requests.get(vk_url+'messages.send',\n",
    "#                '&user_id={}&peer_id={}&chat_id={}&message={}&access_token={}&v=5.53'.format(msg['user_id'],'-1747308378',msg['id'],text,access_token))\n",
    "#\n",
    " #       result = resp.json()\n",
    "#    else:\n",
    "#        print read, 'no cool'"
   ]
  },
  {
   "cell_type": "code",
   "execution_count": 5,
   "metadata": {
    "collapsed": false
   },
   "outputs": [
    {
     "name": "stdout",
     "output_type": "stream",
     "text": [
      "{\n",
      "    \"response\": {\n",
      "        \"count\": 33, \n",
      "        \"items\": [\n",
      "            {\n",
      "                \"body\": \"hfh\", \n",
      "                \"date\": 1473580154, \n",
      "                \"id\": 104, \n",
      "                \"out\": 0, \n",
      "                \"read_state\": 1, \n",
      "                \"title\": \" ... \", \n",
      "                \"user_id\": 8438153\n",
      "            }, \n",
      "            {\n",
      "                \"body\": \"[\", \n",
      "                \"date\": 1473576941, \n",
      "                \"id\": 103, \n",
      "                \"out\": 0, \n",
      "                \"read_state\": 1, \n",
      "                \"title\": \" ... \", \n",
      "                \"user_id\": 8438153\n",
      "            }, \n",
      "            {\n",
      "                \"body\": \"2\", \n",
      "                \"date\": 1473576665, \n",
      "                \"id\": 100, \n",
      "                \"out\": 0, \n",
      "                \"read_state\": 1, \n",
      "                \"title\": \" ... \", \n",
      "                \"user_id\": 8438153\n",
      "            }\n",
      "        ]\n",
      "    }\n",
      "}\n"
     ]
    }
   ],
   "source": [
    "resp = requests.get(vk_url+'messages.get',\n",
    "                '&count={}&access_token={}&v=5.53'.format('3',access_token))\n",
    "\n",
    "result = resp.json()\n",
    "mg = result    \n",
    "print (json.dumps(result, indent=4, sort_keys=True, ensure_ascii=False))"
   ]
  },
  {
   "cell_type": "code",
   "execution_count": 6,
   "metadata": {
    "collapsed": false
   },
   "outputs": [],
   "source": [
    "#result['response']['items'][0]['body']\n",
    "# result = resp.json()\n"
   ]
  },
  {
   "cell_type": "code",
   "execution_count": 7,
   "metadata": {
    "collapsed": false
   },
   "outputs": [],
   "source": [
    "# mgt['response']['items'][0]['message]['out']\n"
   ]
  },
  {
   "cell_type": "markdown",
   "metadata": {},
   "source": [
    "Пришлет привет если хоть что нибудь последний человек писал"
   ]
  },
  {
   "cell_type": "code",
   "execution_count": 8,
   "metadata": {
    "collapsed": false
   },
   "outputs": [],
   "source": [
    "#r = mg['response']['items'][0]\n",
    "#p = mgt['response']['items'][0]['message'][out]\n",
    "#ustxtany = ['2']\n",
    "#textw1 = 'Добро пожаловать, мы скинем вам рассписание скажите свою группу и номер паспорта'\n",
    "#read = r['body'].encode('utf8')\n",
    "#print 'сейчас read = ', read\n",
    "#if read == ustxtany and p == 0:\n",
    "#    resp = requests.get(vk_url+'messages.send',\n",
    "#            '&user_id={}&peer_id={}&chat_id={}&message={}&access_token={}&v=5.53'.format(r['user_id'],'-1747308378',r['id'],textw1,access_token))\n",
    "#\n",
    "#        \n",
    "#    result = resp.json()\n",
    "\n",
    "#else:\n",
    "#    print read, 'не выполнено'"
   ]
  },
  {
   "cell_type": "raw",
   "metadata": {},
   "source": [
    "Проверяет кто писсал последним у последнего"
   ]
  },
  {
   "cell_type": "code",
   "execution_count": 11,
   "metadata": {
    "collapsed": false
   },
   "outputs": [
    {
     "name": "stdout",
     "output_type": "stream",
     "text": [
      "сейчас read =  hfh\n"
     ]
    }
   ],
   "source": [
    "r = mg['response']['items'][0]\n",
    "ustxtany = ['']\n",
    "textw1 = 'Добро пожаловать, мы скинем вам рассписание скажите свою группу и номер паспорта'\n",
    "read = r['body'].encode('utf8')\n",
    "print 'сейчас read = ', read\n",
    "if read == ustxtany:\n",
    "    resp = requests.get(vk_url+'messages.send',\n",
    "            '&user_id={}&peer_id={}&chat_id={}&message={}&attachment=&access_token={}&v=5.53'.format(r['user_id'],'-1747308378',r['id'],textw1,'photo,photo-128566598_432669004',access_token))\n",
    "\n",
    "        \n",
    "    result = resp.json()\n",
    "\n"
   ]
  },
  {
   "cell_type": "raw",
   "metadata": {},
   "source": [
    "Ответ на Бро Бро"
   ]
  },
  {
   "cell_type": "code",
   "execution_count": 10,
   "metadata": {
    "collapsed": false
   },
   "outputs": [
    {
     "ename": "KeyError",
     "evalue": "'response'",
     "output_type": "error",
     "traceback": [
      "\u001b[1;31m---------------------------------------------------------------------------\u001b[0m",
      "\u001b[1;31mKeyError\u001b[0m                                  Traceback (most recent call last)",
      "\u001b[1;32m<ipython-input-10-416c28dcf199>\u001b[0m in \u001b[0;36m<module>\u001b[1;34m()\u001b[0m\n\u001b[1;32m----> 1\u001b[1;33m \u001b[0mr\u001b[0m \u001b[1;33m=\u001b[0m \u001b[0mresult\u001b[0m\u001b[1;33m[\u001b[0m\u001b[1;34m'response'\u001b[0m\u001b[1;33m]\u001b[0m\u001b[1;33m[\u001b[0m\u001b[1;34m'items'\u001b[0m\u001b[1;33m]\u001b[0m\u001b[1;33m\u001b[0m\u001b[0m\n\u001b[0m\u001b[0;32m      2\u001b[0m \u001b[0mustxt\u001b[0m \u001b[1;33m=\u001b[0m \u001b[1;33m[\u001b[0m\u001b[1;34m'бро'\u001b[0m\u001b[1;33m,\u001b[0m\u001b[1;34m'bro'\u001b[0m\u001b[1;33m]\u001b[0m\u001b[1;33m\u001b[0m\u001b[0m\n\u001b[0;32m      3\u001b[0m \u001b[0mtextbro\u001b[0m \u001b[1;33m=\u001b[0m \u001b[1;34m'БРОООООО'\u001b[0m\u001b[1;33m\u001b[0m\u001b[0m\n\u001b[0;32m      4\u001b[0m \u001b[1;32mfor\u001b[0m \u001b[0mi\u001b[0m \u001b[1;32min\u001b[0m \u001b[0mr\u001b[0m\u001b[1;33m:\u001b[0m\u001b[1;33m\u001b[0m\u001b[0m\n\u001b[0;32m      5\u001b[0m     \u001b[0mmsg\u001b[0m \u001b[1;33m=\u001b[0m \u001b[0mi\u001b[0m\u001b[1;33m\u001b[0m\u001b[0m\n",
      "\u001b[1;31mKeyError\u001b[0m: 'response'"
     ]
    }
   ],
   "source": [
    "r = result['response']['items']\n",
    "ustxt = ['бро','bro']\n",
    "textbro = 'БРОООООО'\n",
    "for i in r:\n",
    "    msg = i\n",
    "    read = i['body'].encode('utf8').lower()\n",
    "    print read\n",
    "    if read == 'бро':\n",
    "        resp = requests.get(vk_url+'messages.send',\n",
    "                '&user_id={}&peer_id={}&chat_id={}&message={}&access_token={}&v=5.53'.format(msg['user_id'],'-1747308378',msg['id'],textbro,access_token))\n",
    "\n",
    "        resp = requests.get(vk_url+'messages.send',\n",
    "                '&user_id={}&peer_id={}&chat_id={}&sticker_id={}&access_token={}&v=5.53'.format(msg['user_id'],'-1747308378',msg['id'],'20',access_token))\n",
    "\n",
    "        result = resp.json()\n",
    "\n",
    "    else:\n",
    "        print read, 'не выполнено'"
   ]
  },
  {
   "cell_type": "code",
   "execution_count": null,
   "metadata": {
    "collapsed": false
   },
   "outputs": [],
   "source": [
    "resp = requests.get(vk_url+'messages.send',\n",
    "                '&user_id={}&peer_id={}&chat_id={}&message={}&access_token={}&v=5.53'.format(r['user_id'],'-1747308378',r['id'],'UTHJQ',access_token))\n",
    "\n",
    "result = resp.json()\n",
    "    \n",
    "print (json.dumps(result, indent=4, sort_keys=True, ensure_ascii=False))\n"
   ]
  },
  {
   "cell_type": "code",
   "execution_count": null,
   "metadata": {
    "collapsed": true
   },
   "outputs": [],
   "source": []
  }
 ],
 "metadata": {
  "anaconda-cloud": {},
  "kernelspec": {
   "display_name": "Python [Root]",
   "language": "python",
   "name": "Python [Root]"
  },
  "language_info": {
   "codemirror_mode": {
    "name": "ipython",
    "version": 2
   },
   "file_extension": ".py",
   "mimetype": "text/x-python",
   "name": "python",
   "nbconvert_exporter": "python",
   "pygments_lexer": "ipython2",
   "version": "2.7.12"
  }
 },
 "nbformat": 4,
 "nbformat_minor": 0
}
