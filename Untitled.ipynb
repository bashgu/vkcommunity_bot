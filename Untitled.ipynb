{
 "cells": [
  {
   "cell_type": "code",
   "execution_count": 31,
   "metadata": {
    "collapsed": true
   },
   "outputs": [],
   "source": [
    "import deepdish as dd"
   ]
  },
  {
   "cell_type": "code",
   "execution_count": 54,
   "metadata": {
    "collapsed": false
   },
   "outputs": [],
   "source": [
    "dd.io.save('base.h5',base)"
   ]
  },
  {
   "cell_type": "code",
   "execution_count": 21,
   "metadata": {
    "collapsed": false
   },
   "outputs": [
    {
     "name": "stdout",
     "output_type": "stream",
     "text": [
      "skip\n",
      "\n",
      "привет\n",
      "Здравствуйте, чтобы узнать мои команды - напишите \"справка\".\n",
      "расписание\n",
      "Какой день недели вас интересует?\n",
      "понедельник\n",
      ".\n",
      "вторник\n",
      ".\n",
      "среда\n",
      ".\n",
      "четверг\n",
      ".\n",
      "пятница\n",
      ".\n",
      "суббота\n",
      ".\n",
      "воскресенье\n",
      ".\n"
     ]
    }
   ],
   "source": [
    "for i in range(10):\n",
    "    print base['question'][i]\n",
    "    print base['answer'][i]"
   ]
  },
  {
   "cell_type": "code",
   "execution_count": 23,
   "metadata": {
    "collapsed": false
   },
   "outputs": [],
   "source": [
    "base['answer'].append('')"
   ]
  },
  {
   "cell_type": "code",
   "execution_count": 17,
   "metadata": {
    "collapsed": false
   },
   "outputs": [
    {
     "name": "stdout",
     "output_type": "stream",
     "text": [
      "['', u'\\u0417\\u0434\\u0440\\u0430\\u0432\\u0441\\u0442\\u0432\\u0443\\u0439\\u0442\\u0435, \\u0447\\u0442\\u043e\\u0431\\u044b \\u0443\\u0437\\u043d\\u0430\\u0442\\u044c \\u043c\\u043e\\u0438 \\u043a\\u043e\\u043c\\u0430\\u043d\\u0434\\u044b - \\u043d\\u0430\\u043f\\u0438\\u0448\\u0438\\u0442\\u0435 \"\\u0441\\u043f\\u0440\\u0430\\u0432\\u043a\\u0430\".', u'\\u041a\\u0430\\u043a\\u043e\\u0439 \\u0434\\u0435\\u043d\\u044c \\u043d\\u0435\\u0434\\u0435\\u043b\\u0438 \\u0432\\u0430\\u0441 \\u0438\\u043d\\u0442\\u0435\\u0440\\u0435\\u0441\\u0443\\u0435\\u0442?', '.', '.', '.', '.', '.', '.', '.', u'\\u0427\\u0442\\u043e\\u0431\\u044b \\u0443\\u0437\\u043d\\u0430\\u0442\\u044c \\u043d\\u0430\\u0448\\u0435 \\u0440\\u0430\\u0441\\u043f\\u0438\\u0441\\u0430\\u043d\\u0438\\u0435 - \\u043d\\u0430\\u043f\\u0438\\u0448\\u0438\\u0442\\u0435 \"\\u0440\\u0430\\u0441\\u043f\\u0438\\u0441\\u0430\\u043d\\u0438\\u0435\".']\n"
     ]
    }
   ],
   "source": [
    "print base['answer']"
   ]
  },
  {
   "cell_type": "code",
   "execution_count": 49,
   "metadata": {
    "collapsed": true
   },
   "outputs": [],
   "source": [
    "base=dd.io.load('base.h5')"
   ]
  },
  {
   "cell_type": "code",
   "execution_count": 7,
   "metadata": {
    "collapsed": false
   },
   "outputs": [
    {
     "name": "stdout",
     "output_type": "stream",
     "text": [
      "[u'\\u043f\\u043e\\u043d\\u0435\\u0434\\u0435\\u043b\\u044c\\u043d\\u0438\\u043a']\n",
      "[u'\\u0432\\u0442\\u043e\\u0440\\u043d\\u0438\\u043a']\n",
      "[u'\\u0441\\u0440\\u0435\\u0434\\u0430']\n",
      "[u'\\u0447\\u0435\\u0442\\u0432\\u0435\\u0440\\u0433']\n",
      "[u'\\u043f\\u044f\\u0442\\u043d\\u0438\\u0446\\u0430']\n",
      "[u'\\u0441\\u0443\\u0431\\u0431\\u043e\\u0442\\u0430']\n",
      "[u'\\u0432\\u043e\\u0441\\u043a\\u0440\\u0435\\u0441\\u0435\\u043d\\u044c\\u0435']\n"
     ]
    }
   ],
   "source": [
    "sq=3\n",
    "while sq<10:\n",
    "    command['question %d' %sq]['answer']=command['question %d' %sq]['txt']\n",
    "    print command['question %d' %sq]['answer']\n",
    "    sq+=1"
   ]
  },
  {
   "cell_type": "code",
   "execution_count": 9,
   "metadata": {
    "collapsed": true
   },
   "outputs": [],
   "source": [
    "command = {'question %d' %a:{'txt':[base['question'][a]],'answer':[base['answer'][a]]} for a in range(len(base['question']))}"
   ]
  },
  {
   "cell_type": "code",
   "execution_count": 8,
   "metadata": {
    "collapsed": false
   },
   "outputs": [
    {
     "name": "stdout",
     "output_type": "stream",
     "text": [
      "[u'\\u0441\\u0440\\u0435\\u0434\\u0430']\n"
     ]
    }
   ],
   "source": [
    "print command['question 5']['answer']"
   ]
  },
  {
   "cell_type": "code",
   "execution_count": 2,
   "metadata": {
    "collapsed": true
   },
   "outputs": [],
   "source": [
    "def rasp(perm):\n",
    "    rb = xlrd.open_workbook('excel.xls',formatting_info=True)\n",
    "    sheet = rb.sheet_by_index(0)\n",
    "    i = 0\n",
    "    j = 1\n",
    "    timetable = {}\n",
    "    status = False\n",
    "    while True:\n",
    "        if sheet.row_values(i)[0].encode('utf-8') != 'время': i += 1\n",
    "        else:\n",
    "            i += 1\n",
    "            break\n",
    "\n",
    "    days = ['понедельник', 'вторник', 'среда', 'четверг', 'пятница', 'суббота', 'воскресенье']\n",
    "\n",
    "    while True:\n",
    "        if sheet.row_values(i)[0] == '': i += 1\n",
    "        else:\n",
    "            q = i+1\n",
    "            val = sheet.row_values(i)[0]\n",
    "            x = int(val * 24 * 3600)\n",
    "            my_time = time(x/3600, (x%3600)/60, x%60)\n",
    "            if len(str(my_time.hour))==1:\n",
    "                timetable['0'+str(my_time.hour)+':'+str(my_time.minute)[0]+'0'] = {}\n",
    "                val = '0'+str(my_time.hour)+':'+str(my_time.minute)[0]+'0'\n",
    "            else:\n",
    "                timetable[str(my_time.hour)+':'+str(my_time.minute)[0]+'0'] = {}\n",
    "                val = str(my_time.hour)+':'+str(my_time.minute)[0]+'0'\n",
    "            if val == '21:00': status = True\n",
    "            while True:\n",
    "                if status == True:\n",
    "                    if sheet.row_values(q)[2].encode('utf-8') == 'Аэробные классы': break\n",
    "                    else: q += 1\n",
    "                else:\n",
    "                    if sheet.row_values(q)[0] == '': q += 1\n",
    "                    else: break\n",
    "            while True:\n",
    "                if j == 8:\n",
    "                    j = 1\n",
    "                    break\n",
    "                else:\n",
    "                    start = i\n",
    "                    end = q\n",
    "                    forday = ''\n",
    "                    while True:\n",
    "                        if start >= end:\n",
    "                            if forday != '':\n",
    "                                timetable[val][days[j-1]] = forday\n",
    "                            j += 1\n",
    "                            break\n",
    "                        elif sheet.row_values(start)[j] == '':\n",
    "                            start = end\n",
    "                        else:\n",
    "                            forday += sheet.row_values(start)[j] + ',' + sheet.row_values(start+1)[j] + '\\n'\n",
    "                            start += 2\n",
    "            if status == True: break\n",
    "            else: i = q\n",
    "    k=timetable.keys()\n",
    "    k=sorted(k)\n",
    "    s = ''\n",
    "    for key in k:\n",
    "        try:\n",
    "            timetable[key][perm]\n",
    "            s += u'В %s будет:\\n' %key + timetable[key][perm] +'\\n'\n",
    "        except KeyError:\n",
    "            pass\n",
    "    return s"
   ]
  },
  {
   "cell_type": "code",
   "execution_count": 11,
   "metadata": {
    "collapsed": false
   },
   "outputs": [],
   "source": [
    "fas=rasp(command['question %d' %5]['txt'][0].encode('utf-8'))"
   ]
  },
  {
   "cell_type": "code",
   "execution_count": 12,
   "metadata": {
    "collapsed": true
   },
   "outputs": [],
   "source": [
    "sq=3\n",
    "while sq<10:\n",
    "    command['question %d' %sq]['answer']=rasp(command['question %d' %sq]['txt'][0].encode('utf-8'))\n",
    "    sq+=1"
   ]
  },
  {
   "cell_type": "code",
   "execution_count": 1,
   "metadata": {
    "collapsed": true
   },
   "outputs": [],
   "source": [
    "import xlrd, xlwt\n",
    "from datetime import time, timedelta\n"
   ]
  },
  {
   "cell_type": "code",
   "execution_count": 14,
   "metadata": {
    "collapsed": false,
    "scrolled": false
   },
   "outputs": [
    {
     "name": "stdout",
     "output_type": "stream",
     "text": [
      "В 09:00 будет:\n",
      "Interval Training,Екатерина, Зал 1\n",
      "Oriental,Татьяна Д., Зал 1\n",
      "Aqua Strength,Эльвира, Бассейн\n",
      "\n",
      "В 10:00 будет:\n",
      "Low Start,Екатерина, Зал 1\n",
      "Дыхательная Гимнастика,Татьяна Д., Студия Единоборств\n",
      "\n",
      "В 11:00 будет:\n",
      "Swimming,Светлана Д., Бассейн\n",
      "\n",
      "В 12:00 будет:\n",
      "Power Ball,Мария, Зал 1\n",
      "Dance Party,Алия, Зал 2\n",
      "Yoga 85 мин,Татьяна Я., Студия Йоги\n",
      "\n",
      "В 13:00 будет:\n",
      "Super Sculpt,Мария, Зал 1\n",
      "\n",
      "В 14:00 будет:\n",
      "Мама +  $$$,Эльвира, Зал 2\n",
      "\n",
      "В 18:00 будет:\n",
      "Dance Party,Гузель, Зал 2\n",
      "Spinning Start **,Алеся, Тренажерный Зал\n",
      "\n",
      "В 19:00 будет:\n",
      "Super Sculpt,Эльвира, Зал 1\n",
      "Body Ballet,Гузель, Зал 2\n",
      "Yoga 85 мин,Татьяна Я., Студия Йоги\n",
      "Дыхательная Гимнастика,Татьяна Д., Студия Единоборств\n",
      "Spinning Middle $$$,Кирилл, Тренажерный Зал\n",
      "\n",
      "В 20:00 будет:\n",
      "Functional Training,Мария, Зал 1\n",
      "Oriental,Татьяна Д., Зал 2\n",
      "Школа Рукопашного Боя,Вадим, Студия Единоборств\n",
      "Aqua Mix,Эльвира, Бассейн\n",
      "\n",
      "В 21:00 будет:\n",
      "Soft-Stretch*,Мария, Зал 1\n",
      "\n",
      "\n"
     ]
    }
   ],
   "source": [
    "print command['question 3']['answer']"
   ]
  },
  {
   "cell_type": "code",
   "execution_count": 53,
   "metadata": {
    "collapsed": false
   },
   "outputs": [
    {
     "name": "stdout",
     "output_type": "stream",
     "text": [
      "lul\n"
     ]
    }
   ],
   "source": [
    "if command['question 5']['txt'][0].encode('utf-8')=='среда': print 'lul'"
   ]
  },
  {
   "cell_type": "code",
   "execution_count": 51,
   "metadata": {
    "collapsed": true
   },
   "outputs": [],
   "source": [
    "s='среда'"
   ]
  },
  {
   "cell_type": "code",
   "execution_count": 52,
   "metadata": {
    "collapsed": false
   },
   "outputs": [
    {
     "data": {
      "text/plain": [
       "'\\xd1\\x81\\xd1\\x80\\xd0\\xb5\\xd0\\xb4\\xd0\\xb0'"
      ]
     },
     "execution_count": 52,
     "metadata": {},
     "output_type": "execute_result"
    }
   ],
   "source": [
    "s"
   ]
  },
  {
   "cell_type": "code",
   "execution_count": 75,
   "metadata": {
    "collapsed": false
   },
   "outputs": [
    {
     "ename": "UnicodeEncodeError",
     "evalue": "'decimal' codec can't encode characters in position 0-431999: invalid decimal Unicode string",
     "output_type": "error",
     "traceback": [
      "\u001b[0;31m---------------------------------------------------------------------------\u001b[0m",
      "\u001b[0;31mUnicodeEncodeError\u001b[0m                        Traceback (most recent call last)",
      "\u001b[0;32m<ipython-input-75-d7382420b4d5>\u001b[0m in \u001b[0;36m<module>\u001b[0;34m()\u001b[0m\n\u001b[1;32m      1\u001b[0m \u001b[0mval\u001b[0m \u001b[1;33m=\u001b[0m \u001b[0msheet\u001b[0m\u001b[1;33m.\u001b[0m\u001b[0mrow_values\u001b[0m\u001b[1;33m(\u001b[0m\u001b[0mi\u001b[0m\u001b[1;33m)\u001b[0m\u001b[1;33m[\u001b[0m\u001b[1;36m0\u001b[0m\u001b[1;33m]\u001b[0m\u001b[1;33m\u001b[0m\u001b[0m\n\u001b[0;32m----> 2\u001b[0;31m \u001b[0mx\u001b[0m \u001b[1;33m=\u001b[0m \u001b[0mint\u001b[0m\u001b[1;33m(\u001b[0m\u001b[0mval\u001b[0m \u001b[1;33m*\u001b[0m \u001b[1;36m24\u001b[0m \u001b[1;33m*\u001b[0m \u001b[1;36m3600\u001b[0m\u001b[1;33m)\u001b[0m\u001b[1;33m\u001b[0m\u001b[0m\n\u001b[0m\u001b[1;32m      3\u001b[0m \u001b[0mmy_time\u001b[0m \u001b[1;33m=\u001b[0m \u001b[0mtime\u001b[0m\u001b[1;33m(\u001b[0m\u001b[0mx\u001b[0m\u001b[1;33m/\u001b[0m\u001b[1;36m3600\u001b[0m\u001b[1;33m,\u001b[0m \u001b[1;33m(\u001b[0m\u001b[0mx\u001b[0m\u001b[1;33m%\u001b[0m\u001b[1;36m3600\u001b[0m\u001b[1;33m)\u001b[0m\u001b[1;33m/\u001b[0m\u001b[1;36m60\u001b[0m\u001b[1;33m,\u001b[0m \u001b[0mx\u001b[0m\u001b[1;33m%\u001b[0m\u001b[1;36m60\u001b[0m\u001b[1;33m)\u001b[0m\u001b[1;33m\u001b[0m\u001b[0m\n",
      "\u001b[0;31mUnicodeEncodeError\u001b[0m: 'decimal' codec can't encode characters in position 0-431999: invalid decimal Unicode string"
     ]
    }
   ],
   "source": [
    "val = sheet.row_values(i)[0]\n",
    "x = int(val * 24 * 3600)\n",
    "my_time = time(x/3600, (x%3600)/60, x%60)"
   ]
  },
  {
   "cell_type": "code",
   "execution_count": 77,
   "metadata": {
    "collapsed": false
   },
   "outputs": [
    {
     "name": "stdout",
     "output_type": "stream",
     "text": [
      "время\n"
     ]
    }
   ],
   "source": [
    "print val"
   ]
  },
  {
   "cell_type": "code",
   "execution_count": 15,
   "metadata": {
    "collapsed": false
   },
   "outputs": [
    {
     "name": "stdout",
     "output_type": "stream",
     "text": [
      ":D\n"
     ]
    }
   ],
   "source": [
    "if command['question 3']['txt'][0].encode('utf-8')=='понедельник':print \":D\""
   ]
  },
  {
   "cell_type": "code",
   "execution_count": 53,
   "metadata": {
    "collapsed": false
   },
   "outputs": [
    {
     "name": "stdout",
     "output_type": "stream",
     "text": [
      "skip\n",
      "\n",
      "привет\n",
      "Здравствуйте, чтобы узнать мои команды - напишите \"справка\".\n",
      "расписание\n",
      "Какой день недели вас интересует?\n",
      "понедельник\n",
      ".\n",
      "вторник\n",
      ".\n",
      "среда\n",
      ".\n",
      "четверг\n",
      ".\n",
      "пятница\n",
      ".\n",
      "суббота\n",
      ".\n",
      "воскресенье\n",
      ".\n",
      "справка\n",
      "Введите то что вас заинтересует:\n",
      "Расписание\n",
      "цена карты\n",
      "цена разового посещения\n",
      "купить или продать карту\n",
      "правила гостевого визита\n",
      "секции для детей\n",
      "вакансии\n",
      "расписание спортаза\n",
      "цена карты\n",
      "Данную информацию Вы можете уточнить только у менеджера по работе с клиентами +7 917 80 90 200 или написать им личные сообщения. vk.com/ulyanoshka или vk.com/id148175240\n",
      "цена разового посещения\n",
      "Разовое посещение Клуба для взрослого стоит 800 рублей.\n",
      "купить или продать карту\n",
      "Информацию о покупке/продаже карт лучше смотреть здесь: vk.com/topic-72693961_31685133\n",
      "правила гостевого визита\n",
      "Гостевой визит позволяет пригласить с собой до 3 гостей включительно.\n",
      "секции для детей\n",
      "Для уточнения информации о детских секциях вы можете позвонить по телефону 89178090200.\n",
      "вакансии\n",
      "Вы можете прислать резюмы, мы его рассмотрим! Наш почтовый адресс: sterlitamak@world-gym.com\n",
      "расписание спортзала\n",
      "Клуб работает в будние дни с 06:50 до 23:10, в выходные и праздничные дни с 08:50 до 22:10.\n",
      "купить карту\n",
      "Информацию о покупке/продаже карт лучше смотреть здесь: vk.com/topic-72693961_31685133\n",
      "продать карту\n",
      "Информацию о покупке/продаже карт лучше смотреть здесь: vk.com/topic-72693961_31685133\n"
     ]
    }
   ],
   "source": [
    "for i in range(len(base['question'])):\n",
    "    print base['question'][i]\n",
    "    print base['answer'][i]"
   ]
  },
  {
   "cell_type": "code",
   "execution_count": 29,
   "metadata": {
    "collapsed": false
   },
   "outputs": [
    {
     "name": "stdout",
     "output_type": "stream",
     "text": [
      "<type 'numpy.unicode_'>\n"
     ]
    }
   ],
   "source": [
    "print type(base['answer'][10])"
   ]
  },
  {
   "cell_type": "code",
   "execution_count": 52,
   "metadata": {
    "collapsed": false
   },
   "outputs": [],
   "source": [
    "base['answer'][19] = base['answer'][13]"
   ]
  },
  {
   "cell_type": "code",
   "execution_count": 46,
   "metadata": {
    "collapsed": true
   },
   "outputs": [],
   "source": [
    "a='Введите то что вас заинтересует:\\nРасписание\\nцена карты\\nцена разового посещения\\nкупить или продать карту\\nправила гостевого визита\\nсекции для детей\\nвакансии\\nрасписание спортаза'"
   ]
  },
  {
   "cell_type": "code",
   "execution_count": 39,
   "metadata": {
    "collapsed": false
   },
   "outputs": [
    {
     "data": {
      "text/plain": [
       "u'\\u0412\\u0432\\u0435\\u0434\\u0438\\u0442\\u0435 \\u0442\\u043e \\u0447\\u0442\\u043e \\u0432\\u0430\\u0441 \\u0437\\u0430\\u0438\\u043d\\u0442\\u0435\\u0440\\u0435\\u0441\\u0443\\u0435\\u0442\\n\\u0420\\u0430\\u0441\\u043f\\u0438\\u0441\\u0430\\u043d\\u0438\\u0435\\n\\u0446\\u0435\\u043d\\u0430 \\u043a\\u0430\\u0440\\u0442\\u044b\\\\\\u0442\\u0446\\u0435\\u043d\\u0430 \\u0440\\u0430\\u0437\\u043e\\u0432\\u043e\\u0433\\u043e \\u043f\\u043e\\u0441\\u0435\\u0449\\u0435\\u043d\\u0438\\u044f\\n\\u043a\\u0443\\u043f\\u0438\\u0442\\u044c \\u0438\\u043b\\u0438 \\u043f\\u0440\\u043e\\u0434\\u0430\\u0442\\u044c \\u043a\\u0430\\u0440\\u0442\\u0443\\n\\u043f\\u0440\\u0430\\u0432\\u0438\\u043b\\u0430 \\u0433\\u043e\\u0441\\u0442\\u0435\\u0432\\u043e\\u0433\\u043e \\u0432\\u0438\\u0437\\u0438\\u0442\\u0430\\n\\u0441\\u0435\\u043a\\u0446\\u0438\\u0438 \\u0434\\u043b\\u044f \\u0434\\u0435\\u0442\\u0435\\u0439\\n\\u0432\\u0430\\u043a\\u0430\\u043d\\u0441\\u0438\\u0438\\n\\u0440\\u0430\\u0441\\u043f\\u0438\\u0441\\u0430\\u043d\\u0438\\u0435 \\u0441\\u043f\\u043e\\u0440\\u0442\\u0430\\u0437\\u0430'"
      ]
     },
     "execution_count": 39,
     "metadata": {},
     "output_type": "execute_result"
    }
   ],
   "source": [
    "a.decode('utf-8')"
   ]
  },
  {
   "cell_type": "code",
   "execution_count": null,
   "metadata": {
    "collapsed": true
   },
   "outputs": [],
   "source": []
  }
 ],
 "metadata": {
  "anaconda-cloud": {},
  "kernelspec": {
   "display_name": "Python [conda root]",
   "language": "python",
   "name": "conda-root-py"
  },
  "language_info": {
   "codemirror_mode": {
    "name": "ipython",
    "version": 2
   },
   "file_extension": ".py",
   "mimetype": "text/x-python",
   "name": "python",
   "nbconvert_exporter": "python",
   "pygments_lexer": "ipython2",
   "version": "2.7.12"
  }
 },
 "nbformat": 4,
 "nbformat_minor": 1
}
