{
 "cells": [
  {
   "cell_type": "code",
   "execution_count": 5,
   "metadata": {
    "collapsed": true
   },
   "outputs": [],
   "source": [
    "import requests\n",
    "import json"
   ]
  },
  {
   "cell_type": "markdown",
   "metadata": {},
   "source": [
    "# VK Api"
   ]
  },
  {
   "cell_type": "code",
   "execution_count": 20,
   "metadata": {
    "collapsed": false
   },
   "outputs": [
    {
     "name": "stdout",
     "output_type": "stream",
     "text": [
      "{\n",
      "    \"response\": {\n",
      "        \"count\": 1, \n",
      "        \"items\": [\n",
      "            {\n",
      "                \"in_read\": 1, \n",
      "                \"message\": {\n",
      "                    \"body\": \"ВАЛИ ОТСЮДА БОМЖАРА\", \n",
      "                    \"date\": 1473535694, \n",
      "                    \"id\": 2, \n",
      "                    \"out\": 1, \n",
      "                    \"random_id\": -1747308378, \n",
      "                    \"read_state\": 1, \n",
      "                    \"title\": \" ... \", \n",
      "                    \"user_id\": 8438153\n",
      "                }, \n",
      "                \"out_read\": 2\n",
      "            }\n",
      "        ]\n",
      "    }\n",
      "}\n"
     ]
    }
   ],
   "source": [
    "vk_url=\"https://api.vkontakte.ru/method/\"\n",
    "access_token='84bf24ce01548f2a85bcd4d2577d5b5cc6007b894b79d4f471f4f57346bd52aa08e0733ce81d69e2eafe2'\n",
    "\n",
    "resp = requests.get(vk_url+'messages.getDialogs',\n",
    "                '&access_token={}&v=5.53'.format(access_token))\n",
    "\n",
    "result = resp.json()\n",
    "    \n",
    "print (json.dumps(result, indent=4, sort_keys=True, ensure_ascii=False))\n"
   ]
  },
  {
   "cell_type": "code",
   "execution_count": null,
   "metadata": {
    "collapsed": true
   },
   "outputs": [],
   "source": []
  }
 ],
 "metadata": {
  "kernelspec": {
   "display_name": "Python [Root]",
   "language": "python",
   "name": "Python [Root]"
  },
  "language_info": {
   "codemirror_mode": {
    "name": "ipython",
    "version": 2
   },
   "file_extension": ".py",
   "mimetype": "text/x-python",
   "name": "python",
   "nbconvert_exporter": "python",
   "pygments_lexer": "ipython2",
   "version": "2.7.12"
  }
 },
 "nbformat": 4,
 "nbformat_minor": 0
}
